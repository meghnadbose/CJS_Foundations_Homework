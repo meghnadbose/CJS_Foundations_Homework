{
 "cells": [
  {
   "cell_type": "markdown",
   "id": "3e257e54-4eb2-46b5-abdf-37f1c5aca6ab",
   "metadata": {},
   "source": [
    "## Meghnad Bose\n",
    "## Homework 05"
   ]
  },
  {
   "cell_type": "code",
   "execution_count": 38,
   "id": "b5e823e4-c8b0-4104-8646-5ab64ce5e891",
   "metadata": {},
   "outputs": [
    {
     "data": {
      "text/plain": [
       "False"
      ]
     },
     "execution_count": 38,
     "metadata": {},
     "output_type": "execute_result"
    }
   ],
   "source": [
    "import os\n",
    "from dotenv import load_dotenv\n",
    "load_dotenv()"
   ]
  },
  {
   "cell_type": "markdown",
   "id": "163c1e48-875e-4be1-a607-52404086af62",
   "metadata": {},
   "source": [
    "## What is the URL to the documentation?"
   ]
  },
  {
   "cell_type": "markdown",
   "id": "e9842eba-ab19-4284-844c-6aff4c8c2624",
   "metadata": {},
   "source": [
    "[https://www.weatherapi.com/docs/](https://www.weatherapi.com/docs/)"
   ]
  },
  {
   "cell_type": "code",
   "execution_count": 39,
   "id": "33503a41-5b87-4b2c-b0c8-6d50f3dbd9c0",
   "metadata": {},
   "outputs": [],
   "source": [
    "API_KEY = os.getenv(\"API_KEY\")"
   ]
  },
  {
   "cell_type": "markdown",
   "id": "cba85777-e150-4aa8-928b-765e7d1be11e",
   "metadata": {},
   "source": [
    "## Make a request for the current weather where you are born, or somewhere you've lived."
   ]
  },
  {
   "cell_type": "code",
   "execution_count": 40,
   "id": "d73aaae5-c56b-45fb-9a25-a774e885a4d7",
   "metadata": {},
   "outputs": [],
   "source": [
    "import requests\n",
    "\n",
    "url = f'http://api.weatherapi.com/v1/current.json?key={API_KEY}&q=Kolkata'\n",
    "response = requests.get(url)\n",
    "data = response.json()"
   ]
  },
  {
   "cell_type": "code",
   "execution_count": 41,
   "id": "fe03bf1a-0310-4747-8d2f-2c55f21f6bcc",
   "metadata": {},
   "outputs": [
    {
     "data": {
      "text/plain": [
       "{'error': {'code': 2008, 'message': 'API key has been disabled.'}}"
      ]
     },
     "execution_count": 41,
     "metadata": {},
     "output_type": "execute_result"
    }
   ],
   "source": [
    "data"
   ]
  },
  {
   "cell_type": "markdown",
   "id": "4fb620ae-046b-4407-9ae1-71a12b979ec3",
   "metadata": {},
   "source": [
    "## Print out the country this location is in."
   ]
  },
  {
   "cell_type": "code",
   "execution_count": 35,
   "id": "cecc4c79-e5bc-4bd8-9840-bd0f193a47a8",
   "metadata": {},
   "outputs": [
    {
     "data": {
      "text/plain": [
       "dict_keys(['error'])"
      ]
     },
     "execution_count": 35,
     "metadata": {},
     "output_type": "execute_result"
    }
   ],
   "source": [
    "data.keys()"
   ]
  },
  {
   "cell_type": "code",
   "execution_count": 36,
   "id": "6995b9c6-3d43-4f72-8d3e-7ab29b1bee3b",
   "metadata": {},
   "outputs": [
    {
     "ename": "KeyError",
     "evalue": "'location'",
     "output_type": "error",
     "traceback": [
      "\u001b[1;31m---------------------------------------------------------------------------\u001b[0m",
      "\u001b[1;31mKeyError\u001b[0m                                  Traceback (most recent call last)",
      "Cell \u001b[1;32mIn[36], line 1\u001b[0m\n\u001b[1;32m----> 1\u001b[0m \u001b[43mdata\u001b[49m\u001b[43m[\u001b[49m\u001b[38;5;124;43m'\u001b[39;49m\u001b[38;5;124;43mlocation\u001b[39;49m\u001b[38;5;124;43m'\u001b[39;49m\u001b[43m]\u001b[49m\u001b[38;5;241m.\u001b[39mkeys()\n",
      "\u001b[1;31mKeyError\u001b[0m: 'location'"
     ]
    }
   ],
   "source": [
    "data['location'].keys()"
   ]
  },
  {
   "cell_type": "code",
   "execution_count": 16,
   "id": "2fc5d27b-c39e-4435-8978-6d4b33315560",
   "metadata": {},
   "outputs": [
    {
     "ename": "KeyError",
     "evalue": "'location'",
     "output_type": "error",
     "traceback": [
      "\u001b[1;31m---------------------------------------------------------------------------\u001b[0m",
      "\u001b[1;31mKeyError\u001b[0m                                  Traceback (most recent call last)",
      "Cell \u001b[1;32mIn[16], line 1\u001b[0m\n\u001b[1;32m----> 1\u001b[0m country \u001b[38;5;241m=\u001b[39m \u001b[43mdata\u001b[49m\u001b[43m[\u001b[49m\u001b[38;5;124;43m'\u001b[39;49m\u001b[38;5;124;43mlocation\u001b[39;49m\u001b[38;5;124;43m'\u001b[39;49m\u001b[43m]\u001b[49m[\u001b[38;5;124m'\u001b[39m\u001b[38;5;124mcountry\u001b[39m\u001b[38;5;124m'\u001b[39m]\n\u001b[0;32m      2\u001b[0m \u001b[38;5;28mprint\u001b[39m(\u001b[38;5;124mf\u001b[39m\u001b[38;5;124m'\u001b[39m\u001b[38;5;124mThe country this location is in: \u001b[39m\u001b[38;5;132;01m{\u001b[39;00mcountry\u001b[38;5;132;01m}\u001b[39;00m\u001b[38;5;124m'\u001b[39m)\n",
      "\u001b[1;31mKeyError\u001b[0m: 'location'"
     ]
    }
   ],
   "source": [
    "country = data['location']['country']\n",
    "print(f'The country this location is in: {country}')"
   ]
  },
  {
   "cell_type": "markdown",
   "id": "5795c6e6-4733-4acb-9228-e142c6ab34b8",
   "metadata": {},
   "source": [
    "## Print out the difference between the current temperature and how warm it feels. Use \"It feels ___ degrees colder\" or \"It feels ___ degrees warmer,\" not negative numbers."
   ]
  },
  {
   "cell_type": "code",
   "execution_count": 17,
   "id": "f3e7c90f-16fd-4eb2-a750-676fec5e1ed9",
   "metadata": {},
   "outputs": [
    {
     "ename": "KeyError",
     "evalue": "'current'",
     "output_type": "error",
     "traceback": [
      "\u001b[1;31m---------------------------------------------------------------------------\u001b[0m",
      "\u001b[1;31mKeyError\u001b[0m                                  Traceback (most recent call last)",
      "Cell \u001b[1;32mIn[17], line 1\u001b[0m\n\u001b[1;32m----> 1\u001b[0m current_temp \u001b[38;5;241m=\u001b[39m \u001b[43mdata\u001b[49m\u001b[43m[\u001b[49m\u001b[38;5;124;43m'\u001b[39;49m\u001b[38;5;124;43mcurrent\u001b[39;49m\u001b[38;5;124;43m'\u001b[39;49m\u001b[43m]\u001b[49m[\u001b[38;5;124m'\u001b[39m\u001b[38;5;124mtemp_c\u001b[39m\u001b[38;5;124m'\u001b[39m]\n\u001b[0;32m      2\u001b[0m feels_like \u001b[38;5;241m=\u001b[39m data[\u001b[38;5;124m'\u001b[39m\u001b[38;5;124mcurrent\u001b[39m\u001b[38;5;124m'\u001b[39m][\u001b[38;5;124m'\u001b[39m\u001b[38;5;124mfeelslike_c\u001b[39m\u001b[38;5;124m'\u001b[39m]\n\u001b[0;32m      4\u001b[0m \u001b[38;5;28;01mif\u001b[39;00m (current_temp \u001b[38;5;241m>\u001b[39m feels_like):\n",
      "\u001b[1;31mKeyError\u001b[0m: 'current'"
     ]
    }
   ],
   "source": [
    "current_temp = data['current']['temp_c']\n",
    "feels_like = data['current']['feelslike_c']\n",
    "\n",
    "if (current_temp > feels_like):\n",
    "    print(f'It feels {(current_temp - feels_like):.2f} degrees Celsius colder')\n",
    "elif (feels_like > current_temp):\n",
    "    print(f'It feels {(feels_like - current_temp):.2f} degrees Celsius warmer')\n",
    "elif (current_temp == feels_like):\n",
    "    print(f'It feels like the actual temperature.')"
   ]
  },
  {
   "cell_type": "markdown",
   "id": "9e92116e-ec55-4daa-a9a9-8855c1d71b5a",
   "metadata": {},
   "source": [
    "## What's the current temperature at Heathrow International Airport? Use the airport's IATA code to search."
   ]
  },
  {
   "cell_type": "code",
   "execution_count": 18,
   "id": "a7c957c4-35b3-4bdc-a634-133203042eab",
   "metadata": {},
   "outputs": [],
   "source": [
    "url = f'http://api.weatherapi.com/v1/current.json?key={API_KEY}&q=iata:LHR'\n",
    "response = requests.get(url)\n",
    "data = response.json()"
   ]
  },
  {
   "cell_type": "code",
   "execution_count": 19,
   "id": "24308e0a-62ed-42fc-b401-d1c6d029edc1",
   "metadata": {},
   "outputs": [
    {
     "data": {
      "text/plain": [
       "{'error': {'code': 2008, 'message': 'API key has been disabled.'}}"
      ]
     },
     "execution_count": 19,
     "metadata": {},
     "output_type": "execute_result"
    }
   ],
   "source": [
    "data"
   ]
  },
  {
   "cell_type": "code",
   "execution_count": 20,
   "id": "d107ffd1-d41a-4177-b5cc-72026fbd99d9",
   "metadata": {},
   "outputs": [
    {
     "ename": "KeyError",
     "evalue": "'current'",
     "output_type": "error",
     "traceback": [
      "\u001b[1;31m---------------------------------------------------------------------------\u001b[0m",
      "\u001b[1;31mKeyError\u001b[0m                                  Traceback (most recent call last)",
      "Cell \u001b[1;32mIn[20], line 1\u001b[0m\n\u001b[1;32m----> 1\u001b[0m current_temp \u001b[38;5;241m=\u001b[39m \u001b[43mdata\u001b[49m\u001b[43m[\u001b[49m\u001b[38;5;124;43m'\u001b[39;49m\u001b[38;5;124;43mcurrent\u001b[39;49m\u001b[38;5;124;43m'\u001b[39;49m\u001b[43m]\u001b[49m[\u001b[38;5;124m'\u001b[39m\u001b[38;5;124mtemp_c\u001b[39m\u001b[38;5;124m'\u001b[39m]\n\u001b[0;32m      2\u001b[0m \u001b[38;5;28mprint\u001b[39m(\u001b[38;5;124mf\u001b[39m\u001b[38;5;124m'\u001b[39m\u001b[38;5;124mThe current temperature at Heathrow International Airport is \u001b[39m\u001b[38;5;132;01m{\u001b[39;00mcurrent_temp\u001b[38;5;132;01m}\u001b[39;00m\u001b[38;5;124m degrees Celsius.\u001b[39m\u001b[38;5;124m'\u001b[39m)\n",
      "\u001b[1;31mKeyError\u001b[0m: 'current'"
     ]
    }
   ],
   "source": [
    "current_temp = data['current']['temp_c']\n",
    "print(f'The current temperature at Heathrow International Airport is {current_temp} degrees Celsius.')"
   ]
  },
  {
   "cell_type": "markdown",
   "id": "15daccf2-5690-4c51-83f3-6a080b5e10c4",
   "metadata": {},
   "source": [
    "## What URL would I use to request a 3-day forecast at Heathrow?"
   ]
  },
  {
   "cell_type": "markdown",
   "id": "e223e07f-0ccf-4c17-9b7f-722ba698f7f5",
   "metadata": {},
   "source": [
    "The URL would be [http://api.weatherapi.com/v1/forecast.json?key={API_KEY}&q=iata:LHR&days=3](http://api.weatherapi.com/v1/forecast.json?key=38c2094a812a40b7be920812231511&q=iata:LHR&days=3)"
   ]
  },
  {
   "cell_type": "markdown",
   "id": "e4b814bf-ba40-4568-bee8-d586a7bd79c0",
   "metadata": {},
   "source": [
    "## Print the date of each of the 3 days you're getting a forecast for."
   ]
  },
  {
   "cell_type": "code",
   "execution_count": 21,
   "id": "26386d84-5d66-4ada-be2f-efd4203bafaa",
   "metadata": {},
   "outputs": [],
   "source": [
    "url = f'http://api.weatherapi.com/v1/forecast.json?key={API_KEY}&q=iata:LHR&days=3'\n",
    "response = requests.get(url)\n",
    "data = response.json()"
   ]
  },
  {
   "cell_type": "code",
   "execution_count": 22,
   "id": "8fd268a6-cec7-451d-8025-330dc3dcc1b2",
   "metadata": {},
   "outputs": [
    {
     "data": {
      "text/plain": [
       "{'error': {'code': 2008, 'message': 'API key has been disabled.'}}"
      ]
     },
     "execution_count": 22,
     "metadata": {},
     "output_type": "execute_result"
    }
   ],
   "source": [
    "data"
   ]
  },
  {
   "cell_type": "code",
   "execution_count": 23,
   "id": "3221fa2e-f63b-478f-893e-b04236035512",
   "metadata": {},
   "outputs": [
    {
     "data": {
      "text/plain": [
       "dict_keys(['error'])"
      ]
     },
     "execution_count": 23,
     "metadata": {},
     "output_type": "execute_result"
    }
   ],
   "source": [
    "data.keys()"
   ]
  },
  {
   "cell_type": "code",
   "execution_count": 24,
   "id": "4dcf5c8c-8f83-4b4c-a551-137c885cd361",
   "metadata": {},
   "outputs": [
    {
     "ename": "KeyError",
     "evalue": "'forecast'",
     "output_type": "error",
     "traceback": [
      "\u001b[1;31m---------------------------------------------------------------------------\u001b[0m",
      "\u001b[1;31mKeyError\u001b[0m                                  Traceback (most recent call last)",
      "Cell \u001b[1;32mIn[24], line 1\u001b[0m\n\u001b[1;32m----> 1\u001b[0m \u001b[43mdata\u001b[49m\u001b[43m[\u001b[49m\u001b[38;5;124;43m'\u001b[39;49m\u001b[38;5;124;43mforecast\u001b[39;49m\u001b[38;5;124;43m'\u001b[39;49m\u001b[43m]\u001b[49m\u001b[38;5;241m.\u001b[39mkeys()\n",
      "\u001b[1;31mKeyError\u001b[0m: 'forecast'"
     ]
    }
   ],
   "source": [
    "data['forecast'].keys()"
   ]
  },
  {
   "cell_type": "code",
   "execution_count": 25,
   "id": "485d1efa-27a9-411c-86d0-619a8b5d6bfc",
   "metadata": {},
   "outputs": [
    {
     "ename": "KeyError",
     "evalue": "'forecast'",
     "output_type": "error",
     "traceback": [
      "\u001b[1;31m---------------------------------------------------------------------------\u001b[0m",
      "\u001b[1;31mKeyError\u001b[0m                                  Traceback (most recent call last)",
      "Cell \u001b[1;32mIn[25], line 1\u001b[0m\n\u001b[1;32m----> 1\u001b[0m \u001b[43mdata\u001b[49m\u001b[43m[\u001b[49m\u001b[38;5;124;43m'\u001b[39;49m\u001b[38;5;124;43mforecast\u001b[39;49m\u001b[38;5;124;43m'\u001b[39;49m\u001b[43m]\u001b[49m[\u001b[38;5;124m'\u001b[39m\u001b[38;5;124mforecastday\u001b[39m\u001b[38;5;124m'\u001b[39m]\n",
      "\u001b[1;31mKeyError\u001b[0m: 'forecast'"
     ]
    }
   ],
   "source": [
    "data['forecast']['forecastday']"
   ]
  },
  {
   "cell_type": "code",
   "execution_count": 26,
   "id": "82813d02-6b0a-4be1-b6f8-5c667668ad1f",
   "metadata": {},
   "outputs": [
    {
     "ename": "KeyError",
     "evalue": "'forecast'",
     "output_type": "error",
     "traceback": [
      "\u001b[1;31m---------------------------------------------------------------------------\u001b[0m",
      "\u001b[1;31mKeyError\u001b[0m                                  Traceback (most recent call last)",
      "Cell \u001b[1;32mIn[26], line 1\u001b[0m\n\u001b[1;32m----> 1\u001b[0m \u001b[43mdata\u001b[49m\u001b[43m[\u001b[49m\u001b[38;5;124;43m'\u001b[39;49m\u001b[38;5;124;43mforecast\u001b[39;49m\u001b[38;5;124;43m'\u001b[39;49m\u001b[43m]\u001b[49m[\u001b[38;5;124m'\u001b[39m\u001b[38;5;124mforecastday\u001b[39m\u001b[38;5;124m'\u001b[39m][\u001b[38;5;241m0\u001b[39m][\u001b[38;5;124m'\u001b[39m\u001b[38;5;124mdate\u001b[39m\u001b[38;5;124m'\u001b[39m]\n",
      "\u001b[1;31mKeyError\u001b[0m: 'forecast'"
     ]
    }
   ],
   "source": [
    "data['forecast']['forecastday'][0]['date']"
   ]
  },
  {
   "cell_type": "code",
   "execution_count": 27,
   "id": "39f500b8-2bf1-48db-bf58-fabed9133a9d",
   "metadata": {},
   "outputs": [
    {
     "name": "stdout",
     "output_type": "stream",
     "text": [
      "The dates of the three forecast days are:\n"
     ]
    },
    {
     "ename": "KeyError",
     "evalue": "'forecast'",
     "output_type": "error",
     "traceback": [
      "\u001b[1;31m---------------------------------------------------------------------------\u001b[0m",
      "\u001b[1;31mKeyError\u001b[0m                                  Traceback (most recent call last)",
      "Cell \u001b[1;32mIn[27], line 2\u001b[0m\n\u001b[0;32m      1\u001b[0m \u001b[38;5;28mprint\u001b[39m(\u001b[38;5;124mf\u001b[39m\u001b[38;5;124m'\u001b[39m\u001b[38;5;124mThe dates of the three forecast days are:\u001b[39m\u001b[38;5;124m'\u001b[39m)\n\u001b[1;32m----> 2\u001b[0m \u001b[38;5;28;01mfor\u001b[39;00m date \u001b[38;5;129;01min\u001b[39;00m \u001b[43mdata\u001b[49m\u001b[43m[\u001b[49m\u001b[38;5;124;43m'\u001b[39;49m\u001b[38;5;124;43mforecast\u001b[39;49m\u001b[38;5;124;43m'\u001b[39;49m\u001b[43m]\u001b[49m[\u001b[38;5;124m'\u001b[39m\u001b[38;5;124mforecastday\u001b[39m\u001b[38;5;124m'\u001b[39m]:\n\u001b[0;32m      3\u001b[0m     \u001b[38;5;28mprint\u001b[39m(date[\u001b[38;5;124m'\u001b[39m\u001b[38;5;124mdate\u001b[39m\u001b[38;5;124m'\u001b[39m])\n",
      "\u001b[1;31mKeyError\u001b[0m: 'forecast'"
     ]
    }
   ],
   "source": [
    "print(f'The dates of the three forecast days are:')\n",
    "for date in data['forecast']['forecastday']:\n",
    "    print(date['date'])"
   ]
  },
  {
   "cell_type": "markdown",
   "id": "47d9ace3-0dc8-4f7b-9e17-b45b78052239",
   "metadata": {},
   "source": [
    "## Print the maximum temperature of each of the days."
   ]
  },
  {
   "cell_type": "code",
   "execution_count": 28,
   "id": "3924df70-4d42-472b-80f3-b9e14685dce2",
   "metadata": {},
   "outputs": [
    {
     "ename": "KeyError",
     "evalue": "'forecast'",
     "output_type": "error",
     "traceback": [
      "\u001b[1;31m---------------------------------------------------------------------------\u001b[0m",
      "\u001b[1;31mKeyError\u001b[0m                                  Traceback (most recent call last)",
      "Cell \u001b[1;32mIn[28], line 1\u001b[0m\n\u001b[1;32m----> 1\u001b[0m \u001b[43mdata\u001b[49m\u001b[43m[\u001b[49m\u001b[38;5;124;43m'\u001b[39;49m\u001b[38;5;124;43mforecast\u001b[39;49m\u001b[38;5;124;43m'\u001b[39;49m\u001b[43m]\u001b[49m[\u001b[38;5;124m'\u001b[39m\u001b[38;5;124mforecastday\u001b[39m\u001b[38;5;124m'\u001b[39m][\u001b[38;5;241m0\u001b[39m][\u001b[38;5;124m'\u001b[39m\u001b[38;5;124mday\u001b[39m\u001b[38;5;124m'\u001b[39m]\u001b[38;5;241m.\u001b[39mkeys()\n",
      "\u001b[1;31mKeyError\u001b[0m: 'forecast'"
     ]
    }
   ],
   "source": [
    "data['forecast']['forecastday'][0]['day'].keys()"
   ]
  },
  {
   "cell_type": "code",
   "execution_count": 29,
   "id": "ad05868f-b5cb-42e8-8416-9097791406c4",
   "metadata": {},
   "outputs": [
    {
     "ename": "KeyError",
     "evalue": "'forecast'",
     "output_type": "error",
     "traceback": [
      "\u001b[1;31m---------------------------------------------------------------------------\u001b[0m",
      "\u001b[1;31mKeyError\u001b[0m                                  Traceback (most recent call last)",
      "Cell \u001b[1;32mIn[29], line 1\u001b[0m\n\u001b[1;32m----> 1\u001b[0m \u001b[43mdata\u001b[49m\u001b[43m[\u001b[49m\u001b[38;5;124;43m'\u001b[39;49m\u001b[38;5;124;43mforecast\u001b[39;49m\u001b[38;5;124;43m'\u001b[39;49m\u001b[43m]\u001b[49m[\u001b[38;5;124m'\u001b[39m\u001b[38;5;124mforecastday\u001b[39m\u001b[38;5;124m'\u001b[39m][\u001b[38;5;241m0\u001b[39m][\u001b[38;5;124m'\u001b[39m\u001b[38;5;124mday\u001b[39m\u001b[38;5;124m'\u001b[39m][\u001b[38;5;124m'\u001b[39m\u001b[38;5;124mmaxtemp_c\u001b[39m\u001b[38;5;124m'\u001b[39m]\n",
      "\u001b[1;31mKeyError\u001b[0m: 'forecast'"
     ]
    }
   ],
   "source": [
    "data['forecast']['forecastday'][0]['day']['maxtemp_c']"
   ]
  },
  {
   "cell_type": "code",
   "execution_count": 30,
   "id": "efd947f4-a9c8-4a10-b7c6-dda48d93f829",
   "metadata": {},
   "outputs": [
    {
     "ename": "KeyError",
     "evalue": "'forecast'",
     "output_type": "error",
     "traceback": [
      "\u001b[1;31m---------------------------------------------------------------------------\u001b[0m",
      "\u001b[1;31mKeyError\u001b[0m                                  Traceback (most recent call last)",
      "Cell \u001b[1;32mIn[30], line 1\u001b[0m\n\u001b[1;32m----> 1\u001b[0m \u001b[38;5;28;01mfor\u001b[39;00m \u001b[38;5;28mmax\u001b[39m \u001b[38;5;129;01min\u001b[39;00m \u001b[43mdata\u001b[49m\u001b[43m[\u001b[49m\u001b[38;5;124;43m'\u001b[39;49m\u001b[38;5;124;43mforecast\u001b[39;49m\u001b[38;5;124;43m'\u001b[39;49m\u001b[43m]\u001b[49m[\u001b[38;5;124m'\u001b[39m\u001b[38;5;124mforecastday\u001b[39m\u001b[38;5;124m'\u001b[39m]:\n\u001b[0;32m      2\u001b[0m     \u001b[38;5;28mprint\u001b[39m(\u001b[38;5;124mf\u001b[39m\u001b[38;5;124m\"\u001b[39m\u001b[38;5;124mThe max temperature on \u001b[39m\u001b[38;5;132;01m{\u001b[39;00mdate[\u001b[38;5;124m'\u001b[39m\u001b[38;5;124mdate\u001b[39m\u001b[38;5;124m'\u001b[39m]\u001b[38;5;132;01m}\u001b[39;00m\u001b[38;5;124m is forecasted to be \u001b[39m\u001b[38;5;132;01m{\u001b[39;00m\u001b[38;5;28mmax\u001b[39m[\u001b[38;5;124m'\u001b[39m\u001b[38;5;124mday\u001b[39m\u001b[38;5;124m'\u001b[39m][\u001b[38;5;124m'\u001b[39m\u001b[38;5;124mmaxtemp_c\u001b[39m\u001b[38;5;124m'\u001b[39m]\u001b[38;5;132;01m}\u001b[39;00m\u001b[38;5;124m degrees Celsius.\u001b[39m\u001b[38;5;124m\"\u001b[39m)\n",
      "\u001b[1;31mKeyError\u001b[0m: 'forecast'"
     ]
    }
   ],
   "source": [
    "for max in data['forecast']['forecastday']:\n",
    "    print(f\"The max temperature on {date['date']} is forecasted to be {max['day']['maxtemp_c']} degrees Celsius.\")"
   ]
  },
  {
   "cell_type": "markdown",
   "id": "2a796b1d-4d86-4459-a62d-ce4c6c46ab11",
   "metadata": {},
   "source": [
    "## Print only the day with the highest maximum temperature."
   ]
  },
  {
   "cell_type": "code",
   "execution_count": 31,
   "id": "433d198a-e23e-45d3-ba98-882f52f4d902",
   "metadata": {},
   "outputs": [
    {
     "ename": "KeyError",
     "evalue": "'forecast'",
     "output_type": "error",
     "traceback": [
      "\u001b[1;31m---------------------------------------------------------------------------\u001b[0m",
      "\u001b[1;31mKeyError\u001b[0m                                  Traceback (most recent call last)",
      "Cell \u001b[1;32mIn[31], line 1\u001b[0m\n\u001b[1;32m----> 1\u001b[0m \u001b[38;5;28;01mfor\u001b[39;00m \u001b[38;5;28mmax\u001b[39m \u001b[38;5;129;01min\u001b[39;00m \u001b[43mdata\u001b[49m\u001b[43m[\u001b[49m\u001b[38;5;124;43m'\u001b[39;49m\u001b[38;5;124;43mforecast\u001b[39;49m\u001b[38;5;124;43m'\u001b[39;49m\u001b[43m]\u001b[49m[\u001b[38;5;124m'\u001b[39m\u001b[38;5;124mforecastday\u001b[39m\u001b[38;5;124m'\u001b[39m]:\n\u001b[0;32m      2\u001b[0m     \u001b[38;5;28;01mif\u001b[39;00m \u001b[38;5;28mmax\u001b[39m[\u001b[38;5;124m'\u001b[39m\u001b[38;5;124mday\u001b[39m\u001b[38;5;124m'\u001b[39m][\u001b[38;5;124m'\u001b[39m\u001b[38;5;124mmaxtemp_c\u001b[39m\u001b[38;5;124m'\u001b[39m] \u001b[38;5;241m>\u001b[39m max_temp:\n\u001b[0;32m      3\u001b[0m         max_temp \u001b[38;5;241m=\u001b[39m \u001b[38;5;28mmax\u001b[39m[\u001b[38;5;124m'\u001b[39m\u001b[38;5;124mday\u001b[39m\u001b[38;5;124m'\u001b[39m][\u001b[38;5;124m'\u001b[39m\u001b[38;5;124mmaxtemp_c\u001b[39m\u001b[38;5;124m'\u001b[39m]\n",
      "\u001b[1;31mKeyError\u001b[0m: 'forecast'"
     ]
    }
   ],
   "source": [
    "for max in data['forecast']['forecastday']:\n",
    "    if max['day']['maxtemp_c'] > max_temp:\n",
    "        max_temp = max['day']['maxtemp_c']\n",
    "        max_date = date['date']\n",
    "print(f'Of the three days forecasted, the maximum temperature forecasted is {max_temp} degrees Celsius on {max_date}')"
   ]
  }
 ],
 "metadata": {
  "kernelspec": {
   "display_name": "Python 3 (ipykernel)",
   "language": "python",
   "name": "python3"
  },
  "language_info": {
   "codemirror_mode": {
    "name": "ipython",
    "version": 3
   },
   "file_extension": ".py",
   "mimetype": "text/x-python",
   "name": "python",
   "nbconvert_exporter": "python",
   "pygments_lexer": "ipython3",
   "version": "3.11.6"
  }
 },
 "nbformat": 4,
 "nbformat_minor": 5
}
